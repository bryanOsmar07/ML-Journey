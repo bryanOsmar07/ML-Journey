{
 "cells": [
  {
   "cell_type": "markdown",
   "metadata": {},
   "source": [
    "# ANALISIS FORECAST - Sesión 06\n",
    "\n",
    "- Expositor: César Manuel Quezada Balcazar\n",
    "- Email: cesar.quezada@dmc.pe\n",
    "- LinkedIn: www.linkedin.com/in/quezada\n",
    "- Tema: Modelos de Pronostico - Series de Tiempo"
   ]
  },
  {
   "cell_type": "markdown",
   "metadata": {},
   "source": [
    "**Importamos los módulos necesarios**"
   ]
  },
  {
   "cell_type": "code",
   "execution_count": null,
   "metadata": {},
   "outputs": [],
   "source": [
    "import pandas as pd \n",
    "import numpy as np \n",
    "import matplotlib.pyplot as plt\n",
    "import seaborn as sns\n",
    "import matplotlib as mpl\n",
    "\n",
    "import requests\n",
    "import io\n",
    "import os\n",
    "import pylab \n",
    "from dateutil.parser import parse\n",
    "import scipy.stats as stats\n",
    "from scipy.stats import kstest \n",
    "from statsmodels.tsa.stattools import adfuller, kpss\n",
    "from statsmodels.tsa.statespace.sarimax import SARIMAX\n",
    "from sklearn.model_selection import TimeSeriesSplit\n",
    "from sklearn.metrics import mean_squared_error\n",
    "from statsmodels.tsa.stattools import acf, pacf\n",
    "from statsmodels.graphics.tsaplots import plot_acf, plot_pacf\n",
    "\n",
    "plt.rcParams.update({'figure.figsize': (10, 7), 'figure.dpi': 120})"
   ]
  },
  {
   "cell_type": "markdown",
   "metadata": {},
   "source": [
    "**Leemos nuestra serie de tiempo desde un archvo csv**"
   ]
  },
  {
   "cell_type": "code",
   "execution_count": null,
   "metadata": {},
   "outputs": [],
   "source": [
    "df_agricola = pd.read_csv('datos/agricola.csv', sep = ';')\n",
    "df_agricola.head(10)"
   ]
  },
  {
   "cell_type": "code",
   "execution_count": null,
   "metadata": {},
   "outputs": [],
   "source": [
    "# Reaccinamos el index\n",
    "df_agricola = df_agricola.set_index('fecha')"
   ]
  },
  {
   "cell_type": "code",
   "execution_count": null,
   "metadata": {},
   "outputs": [],
   "source": [
    "plt.figure(figsize=(16,5), dpi=100)\n",
    "plt.plot(df_agricola.papa, color = 'blue')\n",
    "plt.show()"
   ]
  },
  {
   "cell_type": "markdown",
   "metadata": {},
   "source": [
    "**(1) Particion la serie training/testing**"
   ]
  },
  {
   "cell_type": "code",
   "execution_count": null,
   "metadata": {},
   "outputs": [],
   "source": [
    "tss = TimeSeriesSplit(n_splits = 12)"
   ]
  },
  {
   "cell_type": "code",
   "execution_count": null,
   "metadata": {},
   "outputs": [],
   "source": [
    "X = df_agricola.drop(labels=['papa'], axis=1)\n",
    "y = df_agricola['papa']"
   ]
  },
  {
   "cell_type": "code",
   "execution_count": null,
   "metadata": {},
   "outputs": [],
   "source": [
    "for train_index, test_index in tss.split(X):\n",
    "    X_train, X_test = X.iloc[train_index, :], X.iloc[test_index,:]\n",
    "    y_train, y_test = y.iloc[train_index], y.iloc[test_index]"
   ]
  },
  {
   "cell_type": "code",
   "execution_count": null,
   "metadata": {},
   "outputs": [],
   "source": [
    "# Graficamos los periodos train y test\n",
    "plt.figure(figsize=(16,5), dpi=100)\n",
    "plt.plot(pd.DataFrame(y_train).index, pd.DataFrame(y_train).papa,color='tab:blue')\n",
    "plt.plot(pd.DataFrame(y_test).index, pd.DataFrame(y_test).papa,color='tab:red')\n",
    "plt.xlabel('Periodos')\n",
    "plt.ylabel('Precios de papa')\n",
    "plt.show()"
   ]
  },
  {
   "cell_type": "markdown",
   "metadata": {},
   "source": [
    "**(1) Proceso AUTO ARIMA**"
   ]
  },
  {
   "cell_type": "code",
   "execution_count": null,
   "metadata": {},
   "outputs": [],
   "source": [
    "import pmdarima as pm"
   ]
  },
  {
   "cell_type": "code",
   "execution_count": null,
   "metadata": {},
   "outputs": [],
   "source": [
    "model_auto = pm.auto_arima(y_train,\n",
    "                           seasonal=True,\n",
    "                           m = 12,\n",
    "                           D=1)"
   ]
  },
  {
   "cell_type": "code",
   "execution_count": null,
   "metadata": {},
   "outputs": [],
   "source": [
    "results = model_auto.fit(y_train) #ajustamos el modelo"
   ]
  },
  {
   "cell_type": "code",
   "execution_count": null,
   "metadata": {},
   "outputs": [],
   "source": [
    "forecast_autoarima = model_auto.predict(n_periods=12)\n",
    "forecast_autoarima"
   ]
  },
  {
   "cell_type": "code",
   "execution_count": null,
   "metadata": {},
   "outputs": [],
   "source": [
    "forecast_autoarima = pd.DataFrame(forecast_autoarima)\n",
    "forecast_autoarima.index = y_test.index\n",
    "forecast_autoarima.columns = ['forecast']\n",
    "forecast_autoarima.head(4)"
   ]
  },
  {
   "cell_type": "code",
   "execution_count": null,
   "metadata": {},
   "outputs": [],
   "source": [
    "# plot\n",
    "plt.figure(figsize=(16,5), dpi=100)\n",
    "forecast_autoarima.plot(color = 'green', legend = True)\n",
    "y_test.plot(color='red',legend = True)\n",
    "plt.show()"
   ]
  },
  {
   "cell_type": "markdown",
   "metadata": {},
   "source": [
    "Prediciendo valores futuros"
   ]
  },
  {
   "cell_type": "code",
   "execution_count": null,
   "metadata": {},
   "outputs": [],
   "source": [
    "# model sarimax\n",
    "model_sarimax = SARIMAX(df_agricola.papa, order= (1,0,0), seasonal_order=(0,1,0,12),\n",
    "                       enforce_stationarity=False,\n",
    "                      enforce_invertibility=False)"
   ]
  },
  {
   "cell_type": "code",
   "execution_count": null,
   "metadata": {},
   "outputs": [],
   "source": [
    "results_sarimax = model_sarimax.fit() # ajuste del modelo"
   ]
  },
  {
   "cell_type": "code",
   "execution_count": null,
   "metadata": {},
   "outputs": [],
   "source": [
    "forecast_sarimax = results_sarimax.get_forecast(steps = 12).predicted_mean.rename('forecast sarimax') # predicción horizonte futuro"
   ]
  },
  {
   "cell_type": "code",
   "execution_count": null,
   "metadata": {},
   "outputs": [],
   "source": [
    "forecast_sarimax"
   ]
  },
  {
   "cell_type": "code",
   "execution_count": null,
   "metadata": {},
   "outputs": [],
   "source": [
    "# Re estructuramos para poder graficar\n",
    "history = df_agricola.papa\n",
    "history = history.reset_index()\n",
    "history"
   ]
  },
  {
   "cell_type": "code",
   "execution_count": null,
   "metadata": {},
   "outputs": [],
   "source": [
    "# plot multiple\n",
    "plt.figure(figsize=(16,5), dpi=100)\n",
    "history.papa.plot(color = 'blue', legend = True)\n",
    "forecast_sarimax.plot(color = 'green', legend = True)\n",
    "plt.show()"
   ]
  },
  {
   "cell_type": "code",
   "execution_count": null,
   "metadata": {},
   "outputs": [],
   "source": []
  },
  {
   "cell_type": "markdown",
   "metadata": {},
   "source": [
    "**(2) Proceso SARIMAX**"
   ]
  },
  {
   "cell_type": "code",
   "execution_count": null,
   "metadata": {},
   "outputs": [],
   "source": [
    "x1 = pd.DataFrame(y_train).shift(1)\n",
    "x2 = pd.DataFrame(y_train).shift(2)\n",
    "x1.columns = ['x1']\n",
    "x2.columns = ['x2']"
   ]
  },
  {
   "cell_type": "code",
   "execution_count": null,
   "metadata": {},
   "outputs": [],
   "source": [
    "# concatenando en regressors\n",
    "regressors = pd.concat([x1, x2], axis=1)\n",
    "regressors.head(5)"
   ]
  },
  {
   "cell_type": "code",
   "execution_count": null,
   "metadata": {},
   "outputs": [],
   "source": [
    "regressors['x1'] = regressors.x1.fillna(190.59)\n",
    "regressors['x2'] = regressors.x2.fillna(190.59)"
   ]
  },
  {
   "cell_type": "code",
   "execution_count": null,
   "metadata": {},
   "outputs": [],
   "source": [
    "# corremos un nuevo autoarima con regresores\n",
    "model_auto2 = pm.auto_arima(y_train,\n",
    "                            seasonal=True,\n",
    "                            d=1,\n",
    "                            D=1,\n",
    "                            start_P = 1,\n",
    "                            start_Q = 1,\n",
    "                            m = 12,\n",
    "                            information_criterion = 'aic',\n",
    "                            suppress_warnings=True,\n",
    "                            stepwise=True,\n",
    "                            exogenous = regressors.values)"
   ]
  },
  {
   "cell_type": "code",
   "execution_count": null,
   "metadata": {},
   "outputs": [],
   "source": [
    "results2 = model_auto2.fit(y_train) #ajustamos el modelo"
   ]
  },
  {
   "cell_type": "code",
   "execution_count": null,
   "metadata": {},
   "outputs": [],
   "source": [
    "forecast_autoarima = model_auto2.predict(n_periods=12)\n",
    "forecast_autoarima = pd.DataFrame(forecast_autoarima)\n",
    "forecast_autoarima.index = y_test.index\n",
    "forecast_autoarima.columns = ['forecast']\n",
    "forecast_autoarima.head(4)"
   ]
  },
  {
   "cell_type": "code",
   "execution_count": null,
   "metadata": {},
   "outputs": [],
   "source": [
    "# plot\n",
    "plt.figure(figsize=(16,5), dpi=100)\n",
    "forecast_autoarima.plot(color = 'green', legend = True)\n",
    "y_test.plot(color='red',legend = True)\n",
    "plt.show()"
   ]
  },
  {
   "cell_type": "code",
   "execution_count": null,
   "metadata": {},
   "outputs": [],
   "source": []
  },
  {
   "cell_type": "code",
   "execution_count": null,
   "metadata": {},
   "outputs": [],
   "source": []
  }
 ],
 "metadata": {
  "kernelspec": {
   "display_name": "Python 3",
   "language": "python",
   "name": "python3"
  },
  "language_info": {
   "codemirror_mode": {
    "name": "ipython",
    "version": 3
   },
   "file_extension": ".py",
   "mimetype": "text/x-python",
   "name": "python",
   "nbconvert_exporter": "python",
   "pygments_lexer": "ipython3",
   "version": "3.7.6"
  }
 },
 "nbformat": 4,
 "nbformat_minor": 2
}
